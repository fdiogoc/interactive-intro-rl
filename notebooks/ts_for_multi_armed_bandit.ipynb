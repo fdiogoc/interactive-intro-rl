{
 "cells": [
  {
   "cell_type": "markdown",
   "metadata": {
    "cell_style": "center"
   },
   "source": [
    "# ts_for_multi_armed_bandit\n",
    "\n",
    "## Demonstration of Thompson Sampling for the Multi-Armed Bandit Problem\n",
    "\n",
    "In this Notebook, let us introduce the Multi-Armed Bandit problem and compare some decision policies like $\\epsilon$-greedy, UCB, and our contestant Thompson Sampling."
   ]
  },
  {
   "cell_type": "code",
   "execution_count": 1,
   "metadata": {},
   "outputs": [],
   "source": [
    "# plotting inline\n",
    "%matplotlib inline\n",
    "\n",
    "# working directory\n",
    "#import os; os.chdir('/home/gdmarmerola/ts_demo')\n",
    "\n",
    "# importing necessary modules\n",
    "import numpy as np\n",
    "import matplotlib.pyplot as plt\n",
    "import seaborn as sns\n",
    "from scipy.stats import beta as beta_dist\n",
    "from matplotlib.animation import FuncAnimation\n",
    "from IPython.display import HTML\n",
    "from tqdm import tqdm\n",
    "import matplotlib.animation as animation\n",
    "\n",
    "# turning off automatic plot showing, and setting style\n",
    "plt.ioff()\n",
    "plt.style.use('fivethirtyeight')\n",
    "# Set up formatting for the movie files\n",
    "Writer = animation.writers['ffmpeg']\n",
    "writervideo = Writer(fps=15, metadata=dict(artist='Me'), bitrate=1800)"
   ]
  },
  {
   "cell_type": "markdown",
   "metadata": {},
   "source": [
    "## Problem: The Binomial Bandit\n",
    "\n",
    "The  Multi-Armed Bandit problem is the simplest setting of reinforcement learning. Suppose that a gambler faces a row of slot machines (bandits) on a casino. Each one of the $K$ machines has a probability $\\theta_k$ of providing a reward to the player. Thus, the player has to decide which machines to play, how many times to play each machine and in which order to play them, in order to maximize his cumulative reward. \n",
    "\n",
    "<img src = \"multiarmedbandit.jpg\">\n",
    "\n",
    "We assume that the rewards are binary, taken from an Bernoulli experiment with parameter $\\theta_k$. Thus, at each round, each bandit behaves like a random variable $Z_k \\sim \\textrm{Binomial}(\\theta_k)$. This version of the Multi-Armed Bandit is also called the Binomial bandit.\n",
    "\n",
    "We can easily define a set of bandits with known reward probabilities and implement methods for drawing rewards for them. We also compute the **regret**, which is the difference $\\theta_{max} - \\theta_i$ of the expected reward $\\theta_i$ of our chosen bandit $i$ and the largest expected reward $\\theta_{max}$. Let us implement this using a class."
   ]
  },
  {
   "cell_type": "code",
   "execution_count": 2,
   "metadata": {},
   "outputs": [],
   "source": [
    "# class for our row of bandits\n",
    "class MAB:\n",
    "    \n",
    "    # initialization\n",
    "    def __init__(self, bandit_probs):\n",
    "        \n",
    "        # storing bandit probs\n",
    "        self.bandit_probs = bandit_probs\n",
    "        \n",
    "    # function that helps us draw from the bandits\n",
    "    def draw(self, k):\n",
    "\n",
    "        # we return the reward and the regret of the action\n",
    "        return np.random.binomial(1, self.bandit_probs[k]), np.max(self.bandit_probs) - self.bandit_probs[k]"
   ]
  },
  {
   "cell_type": "code",
   "execution_count": 3,
   "metadata": {},
   "outputs": [],
   "source": [
    "# defining a set of bandits with known probabilites\n",
    "bandit_probs = [0.55, 0.5, 0.60, 0.90]"
   ]
  },
  {
   "cell_type": "code",
   "execution_count": 4,
   "metadata": {},
   "outputs": [],
   "source": [
    "# instance of our MAB class\n",
    "mab = MAB(bandit_probs)"
   ]
  },
  {
   "cell_type": "markdown",
   "metadata": {},
   "source": [
    "Let us use **matplotlib** to visualize random draws of these bandits. Hollow dots indicate that we pulled the arm but received no reward. Solid dots indicate that a reward was given by the bandit."
   ]
  },
  {
   "cell_type": "code",
   "execution_count": 5,
   "metadata": {},
   "outputs": [],
   "source": [
    "# number of draws\n",
    "N_DRAWS = 500\n",
    "\n",
    "# number of bandits\n",
    "N_BANDITS = len(mab.bandit_probs)\n",
    "\n",
    "# numpy arrays for accumulating draws, bandit choices and rewards, more efficient calculations\n",
    "k_array = np.zeros((N_BANDITS,N_DRAWS))\n",
    "reward_array = np.zeros((N_BANDITS,N_DRAWS))\n",
    "\n",
    "# lists for ease of use, visualization\n",
    "k_list = []\n",
    "reward_list = []\n",
    "\n",
    "# opening figure and setting style\n",
    "fig, ax = plt.subplots(figsize=(9, 3), dpi=150)\n",
    "ax.set(xlim=(-1, N_DRAWS), ylim=(-0.5, N_BANDITS-0.5))\n",
    "\n",
    "# colors for each bandit\n",
    "bandit_colors = ['red', 'green', 'blue', 'purple']\n",
    "\n",
    "# loop generating draws\n",
    "for draw_number in range(N_DRAWS):\n",
    "    \n",
    "    # choosing arm and drawing\n",
    "    k = np.random.choice(range(N_BANDITS),1)[0]\n",
    "    reward, regret = mab.draw(k)\n",
    "    \n",
    "    # record information about this draw\n",
    "    k_list.append(k)\n",
    "    reward_list.append(reward)\n",
    "    k_array[k, draw_number] = 1\n",
    "    reward_array[k, draw_number] = reward\n",
    "      \n",
    "    # getting list of colors that tells us the bandit\n",
    "    color_list = [bandit_colors[k] for k in k_list]\n",
    "    \n",
    "    # getting list of facecolors that tells us the reward\n",
    "    facecolor_list = [['none', bandit_colors[k_list[i]]][r] for i, r in enumerate(reward_list)]    \n",
    "    \n",
    "# initializing with first data\n",
    "scatter = ax.scatter(y=[k_list[0]], x=[list(range(N_DRAWS))[0]], color=[color_list[0]], linestyle='-', marker='o', s=30, facecolor=[facecolor_list[0]]);\n",
    "\n",
    "# titles\n",
    "plt.title('Random draws from the row of slot machines (MAB)', fontsize=10)\n",
    "plt.xlabel('Round', fontsize=10); plt.ylabel('Bandit', fontsize=10);\n",
    "ax.set_yticks([0,1,2,3])\n",
    "ax.set_yticklabels(['{}\\n($\\\\theta = {}$)'.format(i, bandit_probs[i]) for i in range(4)])\n",
    "ax.tick_params(labelsize=10)\n",
    "fig.tight_layout()\n",
    "\n",
    "# function for updating\n",
    "def animate(i):\n",
    "    x = list(range(N_DRAWS))[:i]\n",
    "    y = k_list[:i]\n",
    "    scatter.set_offsets(np.c_[x, y])\n",
    "    scatter.set_color(color_list[:i])\n",
    "    scatter.set_facecolor(facecolor_list[:i])\n",
    "    ax.set_yticks([0,1,2,3])\n",
    "    ax.set_yticklabels(['{}\\n($\\\\theta = {}$)'.format(i, bandit_probs[i]) for i in range(4)])\n",
    "    ax.tick_params(labelsize=10)\n",
    "    return (scatter,)\n",
    "\n",
    "# function for creating animation\n",
    "anim = FuncAnimation(fig, animate, frames=N_DRAWS, interval=25, blit=True)\n",
    "\n",
    "# showing\n",
    "# HTML(anim.to_html5_video())"
   ]
  },
  {
   "cell_type": "markdown",
   "metadata": {},
   "source": [
    "So far so good. We now have a framework for dealing with the bandit problem. Now, let us move to our first modeling step: **estimating reward probabilities.**"
   ]
  },
  {
   "cell_type": "markdown",
   "metadata": {},
   "source": [
    "## Estimating Reward Probabilities\n",
    "\n",
    "Now we start using bayesian reasoning to get a measure of expected reward and uncertainty for each of our bandits. First, we need a **prior** distribution, i.e., a distribution for the probabilities (the $\\theta_k$'s of the bandits. As each of our $K$ bandits is a bernoulli random variable with sucess probability $\\theta_k$, our prior distribution over $\\theta_k$ comes naturally: the **Beta distribution**!\n",
    "\n",
    "The Beta distribution, $\\textrm{Beta}(1+\\alpha, 1+\\beta)$, models the parameter of a bernoulli random variable after we've obserbed $\\alpha$ sucesses and $\\beta$ failures. Let's view some examples!"
   ]
  },
  {
   "cell_type": "code",
   "execution_count": 6,
   "metadata": {
    "code_folding": []
   },
   "outputs": [
    {
     "data": {
      "image/png": "[encoded data removed]",
      "text/plain": [
       "<Figure size 2100x900 with 6 Axes>"
      ]
     },
     "metadata": {},
     "output_type": "display_data"
    }
   ],
   "source": [
    "# clearing past figures\n",
    "plt.close('all')\n",
    "\n",
    "# examples \n",
    "beta_examples = [(0,0),(2,0),(2,5),(18,9),(32,50),(130,80)]\n",
    "\n",
    "# colors for the plots\n",
    "beta_colors = ['blue','orange','green','red','purple','brown']\n",
    "\n",
    "# opening figure\n",
    "fig, ax = plt.subplots(figsize=(14, 6), dpi=150, nrows=2, ncols=3)\n",
    "\n",
    "# loop for each \n",
    "for i, example in enumerate(beta_examples):\n",
    "    \n",
    "    # points to sample for drawing the curve\n",
    "    X = np.linspace(0,1,1000)\n",
    "    \n",
    "    # generating the curve\n",
    "    dist = beta_dist(1 + example[0],1 + example[1])\n",
    "    curve = dist.pdf(X)\n",
    "    \n",
    "    # plotly data\n",
    "    ax[int(i/3)][(i % 3)].fill_between(X, 0, curve, color=beta_colors[i], alpha=0.7)\n",
    "    ax[int(i/3)][(i % 3)].set_title('Sucesses: {} | Failures: {}'.format(example[0],example[1]), fontsize=14)\n",
    "\n",
    "# some adjustments\n",
    "ax[0][0].set(ylim=[0,2])\n",
    "plt.tight_layout()\n",
    "#plt.\n",
    "\n",
    "# showing the figure\n",
    "plt.show()"
   ]
  },
  {
   "cell_type": "markdown",
   "metadata": {},
   "source": [
    "The interpretation is simple. In the blue plot, we haven't started playing, so the only thing we can say about the probability of a reward from the bandit is that it is uniform between 0 or 1. This is our initial guess for $\\theta_k$, our **prior** distribution. In the orange plot, we played two times and received two rewards, so we start moving probability mass to the right side of the plot, as we have evidence that the probability of getting a reward is high. The distribution we get after updating our **prior** is the **posterior** distribution. In the green plot, we've played seven times and got two rewards, so our guess for $\\theta_k$ is more biased towards the left-hand side.\n",
    "\n",
    "As we play and gather evidence, our posterior distribution becomes more concentrated, as shown in the red, purple and brown plots. In the MAB setting, we calculate a posterior distribution for each bandit, at each round. Let us illustrate this."
   ]
  },
  {
   "cell_type": "code",
   "execution_count": 7,
   "metadata": {},
   "outputs": [],
   "source": [
    "# let us create a function that returns the pdf for our beta posteriors\n",
    "def get_beta_pdf(alpha, beta):\n",
    "    X = np.linspace(0,1,1000)\n",
    "    return X, beta_dist(1 + alpha,1 + beta).pdf(X)"
   ]
  },
  {
   "cell_type": "code",
   "execution_count": 8,
   "metadata": {},
   "outputs": [],
   "source": [
    "# for now, let us perform random draws\n",
    "def random_policy(k_array, reward_array, n_bandits):\n",
    "    return np.random.choice(range(n_bandits),1)[0]"
   ]
  },
  {
   "cell_type": "code",
   "execution_count": 9,
   "metadata": {
    "cell_style": "center",
    "code_folding": [
     1
    ]
   },
   "outputs": [],
   "source": [
    "# let us wrap a function that draws the draws and distributions of the bandit experiment\n",
    "def plot_MAB_experiment(decision_policy, N_DRAWS, bandit_probs, plot_title, name):\n",
    "\n",
    "    # clearing past figures\n",
    "    plt.close('all')\n",
    "\n",
    "    # number of bandits\n",
    "    N_BANDITS = len(bandit_probs)\n",
    "    \n",
    "    # numpy arrays for accumulating draws, bandit choices and rewards, more efficient calculations\n",
    "    k_array = np.zeros((N_BANDITS,N_DRAWS))\n",
    "    reward_array = np.zeros((N_BANDITS,N_DRAWS))\n",
    "    \n",
    "    # lists for accumulating draws, bandit choices and rewards\n",
    "    k_list = []\n",
    "    reward_list = []\n",
    "\n",
    "    # animation dict for the posteriors\n",
    "    posterior_anim_dict = {i:[] for i in range(N_BANDITS)}\n",
    "\n",
    "    # opening figure\n",
    "    fig = plt.figure(figsize=(9,5), dpi=150)\n",
    "\n",
    "    # let us position our plots in a grid, the largest being our plays\n",
    "    ax1 = plt.subplot2grid((5, 4), (0, 0), colspan=4, rowspan=3)\n",
    "    ax2 = plt.subplot2grid((5, 4), (3, 0), rowspan=2)\n",
    "    ax3 = plt.subplot2grid((5, 4), (3, 1), rowspan=2)\n",
    "    ax4 = plt.subplot2grid((5, 4), (3, 2), rowspan=2)\n",
    "    ax5 = plt.subplot2grid((5, 4), (3, 3), rowspan=2)\n",
    "\n",
    "    # loop generating draws\n",
    "    for draw_number in range(N_DRAWS):\n",
    "\n",
    "        # record information about this draw\n",
    "        k = decision_policy(k_array, reward_array, N_BANDITS)\n",
    "        reward, regret = mab.draw(k)\n",
    "\n",
    "        # record information about this draw\n",
    "        k_list.append(k)\n",
    "        reward_list.append(reward)\n",
    "        k_array[k, draw_number] = 1\n",
    "        reward_array[k, draw_number] = reward\n",
    "        \n",
    "        # sucesses and failures for our beta distribution\n",
    "        success_count = reward_array.sum(axis=1)\n",
    "        failure_count = k_array.sum(axis=1) - success_count\n",
    "        \n",
    "        # calculating pdfs for each bandit\n",
    "        for bandit_id in range(N_BANDITS):\n",
    "\n",
    "            # pdf\n",
    "            X, curve = get_beta_pdf(success_count[bandit_id], failure_count[bandit_id])\n",
    "\n",
    "            # appending to posterior animation dict\n",
    "            posterior_anim_dict[bandit_id].append({'X': X, 'curve': curve})\n",
    "\n",
    "        # getting list of colors that tells us the bandit\n",
    "        color_list = [bandit_colors[k] for k in k_list]\n",
    "\n",
    "        # getting list of facecolors that tells us the reward\n",
    "        facecolor_list = [['none', bandit_colors[k_list[i]]][r] for i, r in enumerate(reward_list)]\n",
    "\n",
    "    # fixing properties of the plots\n",
    "    ax1.set(xlim=(-1, N_DRAWS), ylim=(-0.5, N_BANDITS-0.5))\n",
    "    ax1.set_title(plot_title, fontsize=10)\n",
    "    ax1.set_xlabel('Round', fontsize=10); ax1.set_ylabel('Bandit', fontsize=10)\n",
    "    ax1.set_yticks([0,1,2,3])\n",
    "    ax1.set_yticklabels(['{}\\n($\\\\theta = {}$)'.format(i, bandit_probs[i]) for i in range(4)])\n",
    "    ax1.tick_params(labelsize=10)\n",
    "\n",
    "    # titles of distribution plots\n",
    "    ax2.set_title('Estimated $\\\\theta_0$', fontsize=10); ax3.set_title('Estimated $\\\\theta_1$', fontsize=10); \n",
    "    ax4.set_title('Estimated $\\\\theta_2$', fontsize=10); ax5.set_title('Estimated $\\\\theta_3$', fontsize=10);\n",
    "\n",
    "    # initializing with first data\n",
    "    scatter = ax1.scatter(y=[k_list[0]], x=[list(range(N_DRAWS))[0]], color=[color_list[0]], linestyle='-', marker='o', s=30, facecolor=[facecolor_list[0]]);\n",
    "    dens1 = ax2.fill_between(posterior_anim_dict[0][0]['X'], 0, posterior_anim_dict[0][0]['curve'], color='red', alpha=0.7)\n",
    "    dens2 = ax3.fill_between(posterior_anim_dict[1][0]['X'], 0, posterior_anim_dict[1][0]['curve'], color='green', alpha=0.7)\n",
    "    dens3 = ax4.fill_between(posterior_anim_dict[2][0]['X'], 0, posterior_anim_dict[2][0]['curve'], color='blue', alpha=0.7)\n",
    "    dens4 = ax5.fill_between(posterior_anim_dict[3][0]['X'], 0, posterior_anim_dict[3][0]['curve'], color='purple', alpha=0.7)\n",
    "\n",
    "    # titles\n",
    "    #plt.title('Random draws from the row of slot machines (MAB)', fontsize=10)\n",
    "    #plt.xlabel('Round', fontsize=10); plt.ylabel('Bandit', fontsize=10);\n",
    "\n",
    "    # function for updating\n",
    "    def animate(i):\n",
    "\n",
    "        # clearing axes\n",
    "        ax1.clear(); ax2.clear(); ax3.clear(); ax4.clear(); ax5.clear();\n",
    "\n",
    "        # updating game rounds\n",
    "        scatter = ax1.scatter(y=k_list[:i], x=list(range(N_DRAWS))[:i], color=color_list[:i], \n",
    "                              linestyle='-', marker='o', s=30, facecolor=facecolor_list[:i]);\n",
    "\n",
    "        # fixing properties of the plot\n",
    "        ax1.set(xlim=(-1, N_DRAWS), ylim=(-0.5, N_BANDITS-0.5))\n",
    "        ax1.set_title(plot_title, fontsize=10)\n",
    "        ax1.set_xlabel('Round', fontsize=10); ax1.set_ylabel('Bandit', fontsize=10)\n",
    "        ax1.set_yticks([0,1,2,3])\n",
    "        ax1.set_yticklabels(['{}\\n($\\\\theta = {}$)'.format(i, bandit_probs[i]) for i in range(4)])\n",
    "        ax1.tick_params(labelsize=10)\n",
    "\n",
    "        # updating distributions\n",
    "        dens1 = ax2.fill_between(posterior_anim_dict[0][i]['X'], 0, posterior_anim_dict[0][i]['curve'], color='red', alpha=0.7)\n",
    "        dens2 = ax3.fill_between(posterior_anim_dict[1][i]['X'], 0, posterior_anim_dict[1][i]['curve'], color='green', alpha=0.7)\n",
    "        dens3 = ax4.fill_between(posterior_anim_dict[2][i]['X'], 0, posterior_anim_dict[2][i]['curve'], color='blue', alpha=0.7)\n",
    "        dens4 = ax5.fill_between(posterior_anim_dict[3][i]['X'], 0, posterior_anim_dict[3][i]['curve'], color='purple', alpha=0.7)\n",
    "\n",
    "        # titles of distribution plots\n",
    "        ax2.set_title('Estimated $\\\\theta_0$', fontsize=10); ax3.set_title('Estimated $\\\\theta_1$', fontsize=10); \n",
    "        ax4.set_title('Estimated $\\\\theta_2$', fontsize=10); ax5.set_title('Estimated $\\\\theta_3$', fontsize=10);\n",
    "        \n",
    "        # do not need to return \n",
    "        return ()\n",
    "\n",
    "    # function for creating animation\n",
    "    anim = FuncAnimation(fig, animate, frames=N_DRAWS, interval=100, blit=True)\n",
    "\n",
    "    # fixing the layout\n",
    "    fig.tight_layout()\n",
    "   \n",
    "\n",
    "    anim.save(name+'_01.mp4', writer=writervideo)\n",
    "    # showing\n",
    "    # return HTML(anim.to_html5_video())"
   ]
  },
  {
   "cell_type": "code",
   "execution_count": 10,
   "metadata": {},
   "outputs": [],
   "source": [
    "# let us plot\n",
    "plot_MAB_experiment(random_policy, 300, mab.bandit_probs, 'Random draws from the row of slot machines (MAB)','Random')"
   ]
  },
  {
   "cell_type": "markdown",
   "metadata": {},
   "source": [
    "The animation shows how the estimated probabilitites change as we play. Now, we can use this information to our benefit, in order to balance the uncertainty around our beliefs (exploration) with our objective of maximizing the cumulative reward (exploitation). Let us check how we can do this."
   ]
  },
  {
   "cell_type": "markdown",
   "metadata": {},
   "source": [
    "## The Exploitation/Exploration Tradeoff\n",
    "\n",
    "Now that we know how to estimate probabilities for our bandits, we need to devise a method that can learn which machine to play (exploit) as fast as possible. Thus, we need to balance how many potentially sub-optimal plays we use to gain information about the system (explorarion) with how many plays we use to profit from the bandit we think is the best in the row (exploitation).\n",
    "\n",
    "If we \"waste\" too many plays in random bandits just to gain knowledge, we lose cumulative reward. If we bet every play in a bandit that looked promising too soon, we can be stuck in a suboptimal strategy. \n",
    "\n",
    "This is what **Thompson Sampling** and other decision policies are all about. The balance of exploration and exploitation. Let us first study other two popular policies, so we can compare them with TS: **$\\epsilon$-greedy** and **Upper Confidence Bound**."
   ]
  },
  {
   "cell_type": "markdown",
   "metadata": {},
   "source": [
    "### Mixing Random and Greedy Actions: $\\epsilon$-greedy\n",
    "\n",
    "The **$\\epsilon$-greedy** policy is the simplest one. At each round, we select the best greedy action, but with $\\epsilon$ probability, we select a random action (excluding the best greedy action).\n",
    "\n",
    "In our case, the best greedy action is to select the bandit with the largest reward average, which is the one with the highest sample expected value $\\textrm{argmax }\\mathbf{E}[\\theta_k]$. Let us implement this policy. "
   ]
  },
  {
   "cell_type": "code",
   "execution_count": 11,
   "metadata": {},
   "outputs": [],
   "source": [
    "# e-greedy policy\n",
    "class eGreedyPolicy:\n",
    "    \n",
    "    # initializing\n",
    "    def __init__(self, epsilon):\n",
    "        \n",
    "        # saving epsilon\n",
    "        self.epsilon = epsilon\n",
    "    \n",
    "    # choice of bandit\n",
    "    def choose_bandit(self, k_array, reward_array, n_bandits):\n",
    "        \n",
    "        # sucesses and total draws\n",
    "        success_count = reward_array.sum(axis=1)\n",
    "        total_count = k_array.sum(axis=1)\n",
    "        \n",
    "        # ratio of sucesses vs total\n",
    "        success_ratio = success_count/total_count\n",
    "        \n",
    "        # choosing best greedy action or random depending with epsilon probability\n",
    "        if np.random.random() < self.epsilon:\n",
    "            \n",
    "            # returning random action, excluding best\n",
    "            return np.random.choice(np.delete(list(range(N_BANDITS)), np.argmax(success_ratio)))\n",
    "        \n",
    "        # else return best\n",
    "        else:\n",
    "            \n",
    "            # returning best greedy action\n",
    "            return np.argmax(success_ratio)    "
   ]
  },
  {
   "cell_type": "code",
   "execution_count": 12,
   "metadata": {},
   "outputs": [],
   "source": [
    "# instance of this class, let us use 0.10 for the random action probability\n",
    "e_greedy_policy = eGreedyPolicy(0.10)"
   ]
  },
  {
   "cell_type": "code",
   "execution_count": 13,
   "metadata": {},
   "outputs": [
    {
     "name": "stderr",
     "output_type": "stream",
     "text": [
      "/tmp/ipykernel_6141/3079164422.py:18: RuntimeWarning: invalid value encountered in true_divide\n",
      "  success_ratio = success_count/total_count\n"
     ]
    }
   ],
   "source": [
    "# let us plot\n",
    "plot_MAB_experiment(e_greedy_policy.choose_bandit, 200, mab.bandit_probs, '$\\epsilon$-greedy decision policy: constant exploration and exploitation','egreedy')"
   ]
  },
  {
   "cell_type": "markdown",
   "metadata": {},
   "source": [
    "The $\\epsilon$-greedy policy is our first step in trying to solve the bandit problem. It comes with a few caveats:\n",
    "\n",
    "* **Addittion of a hyperaparameter:** we have to tune $\\epsilon$ to make it work. In most cases this is not trivial.\n",
    "* **Exploration is constant:** intuition tells us that we shold explore more in the beginning and exploit more as time passes. The $\\epsilon$-greedy policy always explores at the same rate. In the long term, if $\\epsilon$ is not reduced, we'll keep losing a great deal of rewards.\n",
    "* **High risk of suboptimal decision:** if $\\epsilon$ is low, we do not explore much, being under a high risk of being stuck in a suboptimal bandit for a long time.\n",
    "\n",
    "Let us now try a solution which uses the uncertainty over our reward estimates: the Upper Confidence Bound policy."
   ]
  },
  {
   "cell_type": "markdown",
   "metadata": {},
   "source": [
    "### Optimism in the Face of Uncertainty: UCB\n",
    "\n",
    "With the Upper Confidence Bound (UCB) policy we start using the uncertainty in our $\\theta_k$ estimates to our benefit. The algorithm is as follows (UCB1 algorithm as stated [here](https://webdocs.cs.ualberta.ca/~games/go/seminar/notes/2007/slides_ucb.pdf)):\n",
    "\n",
    "* For each action $j$ record the average reward $\\overline{x_j}$ and number of times we have tried it $n_j$. We write $n$ for total number of actions we have tried.\n",
    "* Try the action that maximises $\\overline{x_j} + \\sqrt{\\frac{2\\textrm{ln} n}{n_j}}$\n",
    "\n",
    "The algorithm will pick the arm that has the maximum value at the upper confidence bound. It will balance exploration and exploitation since it will prefer less played arms which are promising. Let us implement it."
   ]
  },
  {
   "cell_type": "code",
   "execution_count": 14,
   "metadata": {},
   "outputs": [],
   "source": [
    "# e-greedy policy\n",
    "class UCBPolicy:\n",
    "    \n",
    "    # initializing\n",
    "    def __init__(self):\n",
    "        \n",
    "        # nothing to do here\n",
    "        pass\n",
    "    \n",
    "    # choice of bandit\n",
    "    def choose_bandit(self, k_array, reward_array, n_bandits):\n",
    "        \n",
    "        # sucesses and total draws\n",
    "        success_count = reward_array.sum(axis=1)\n",
    "        total_count = k_array.sum(axis=1)\n",
    "        \n",
    "        # ratio of sucesses vs total\n",
    "        success_ratio = success_count/total_count\n",
    "        \n",
    "        # computing square root term\n",
    "        sqrt_term = np.sqrt(2*np.log(np.sum(total_count))/total_count)\n",
    "        \n",
    "        # returning best greedy action\n",
    "        return np.argmax(success_ratio + sqrt_term)    "
   ]
  },
  {
   "cell_type": "code",
   "execution_count": 15,
   "metadata": {},
   "outputs": [],
   "source": [
    "# instance of UCB class\n",
    "ucb_policy = UCBPolicy()"
   ]
  },
  {
   "cell_type": "code",
   "execution_count": 16,
   "metadata": {},
   "outputs": [
    {
     "name": "stderr",
     "output_type": "stream",
     "text": [
      "/tmp/ipykernel_6141/2987556313.py:18: RuntimeWarning: invalid value encountered in true_divide\n",
      "  success_ratio = success_count/total_count\n",
      "/tmp/ipykernel_6141/2987556313.py:21: RuntimeWarning: divide by zero encountered in log\n",
      "  sqrt_term = np.sqrt(2*np.log(np.sum(total_count))/total_count)\n",
      "/tmp/ipykernel_6141/2987556313.py:21: RuntimeWarning: invalid value encountered in sqrt\n",
      "  sqrt_term = np.sqrt(2*np.log(np.sum(total_count))/total_count)\n",
      "/tmp/ipykernel_6141/2987556313.py:21: RuntimeWarning: invalid value encountered in true_divide\n",
      "  sqrt_term = np.sqrt(2*np.log(np.sum(total_count))/total_count)\n",
      "/tmp/ipykernel_6141/2987556313.py:21: RuntimeWarning: divide by zero encountered in true_divide\n",
      "  sqrt_term = np.sqrt(2*np.log(np.sum(total_count))/total_count)\n"
     ]
    }
   ],
   "source": [
    "# let us plot'\n",
    "plot_MAB_experiment(ucb_policy.choose_bandit, 200, mab.bandit_probs, 'UCB decision policy: using uncertainty and optimism','UCB')"
   ]
  },
  {
   "cell_type": "markdown",
   "metadata": {},
   "source": [
    "We can note that exploration is fairly heavy in the beginning, with exploitation taking place further on the rounds. The algorithm quickly adapts whan a bandit becomes less promising, switching to another bandit with high optimistic estimate. Eventually, it will solve the bandit problem, as [it's regret is bounded](http://banditalgs.com/2016/09/18/the-upper-confidence-bound-algorithm/).\n",
    "\n",
    "Now, for the last contender: Thompson Sampling!"
   ]
  },
  {
   "cell_type": "markdown",
   "metadata": {},
   "source": [
    "### Probability matching: Thompson Sampling\n",
    "\n",
    "The idea behind Thompson Sampling is the so-called **probability matching**. At each round, we want to pick a bandit with probability equal to the probability of it being the optimal choice. We emulate this behaviour in a very simple way:\n",
    "\n",
    "* At each round, we calculate the distribution over the values of $\\theta_k$, for each of the $K$ bandits.\n",
    "* We take a single sample of each $\\theta_k$ distributions, and pick the one with the largest value.\n",
    "\n",
    "This algorithm is fairly old and did not receive much attention before [this publication](https://papers.nips.cc/paper/4321-an-empirical-evaluation-of-thompson-sampling.pdf) from Chapelle and Li, which showed strong empirical evidence of its efficiency. Let us try it for ourselves! "
   ]
  },
  {
   "cell_type": "code",
   "execution_count": 17,
   "metadata": {},
   "outputs": [],
   "source": [
    "# e-greedy policy\n",
    "class TSPolicy:\n",
    "    \n",
    "    # initializing\n",
    "    def __init__(self):\n",
    "        \n",
    "        # nothing to do here\n",
    "        pass\n",
    "    \n",
    "    # choice of bandit\n",
    "    def choose_bandit(self, k_array, reward_array, n_bandits):\n",
    "\n",
    "        # list of samples, for each bandit\n",
    "        samples_list = []\n",
    "        \n",
    "        # sucesses and failures\n",
    "        success_count = reward_array.sum(axis=1)\n",
    "        failure_count = k_array.sum(axis=1) - success_count\n",
    "                    \n",
    "        # drawing a sample from each bandit distribution\n",
    "        samples_list = [np.random.beta(1 + success_count[bandit_id], 1 + failure_count[bandit_id]) for bandit_id in range(n_bandits)]\n",
    "                                \n",
    "        # returning bandit with best sample\n",
    "        return np.argmax(samples_list)    "
   ]
  },
  {
   "cell_type": "code",
   "execution_count": 18,
   "metadata": {},
   "outputs": [],
   "source": [
    "# instance of UCB class\n",
    "ts_policy = TSPolicy()"
   ]
  },
  {
   "cell_type": "code",
   "execution_count": 19,
   "metadata": {},
   "outputs": [],
   "source": [
    "# number of draws\n",
    "N_DRAWS = 500\n",
    "\n",
    "# number of bandits\n",
    "N_BANDITS = len(mab.bandit_probs)\n",
    "\n",
    "# numpy arrays for accumulating draws, bandit choices and rewards, more efficient calculations\n",
    "k_array = np.zeros((N_BANDITS,N_DRAWS))\n",
    "reward_array = np.zeros((N_BANDITS,N_DRAWS))\n",
    "\n",
    "# lists for ease of use, visualization\n",
    "k_list = []\n",
    "reward_list = []\n",
    "\n",
    "# opening figure and setting style\n",
    "fig, ax = plt.subplots(figsize=(9, 3), dpi=150)\n",
    "ax.set(xlim=(-1, N_DRAWS), ylim=(-0.5, N_BANDITS-0.5))\n",
    "\n",
    "# colors for each bandit\n",
    "bandit_colors = ['red', 'green', 'blue', 'purple']\n",
    "\n",
    "# loop generating draws\n",
    "for draw_number in range(N_DRAWS):\n",
    "    \n",
    "    # choosing arm and drawing\n",
    "    k = ts_policy.choose_bandit(k_array, reward_array, N_BANDITS)\n",
    "    reward, regret = mab.draw(k)\n",
    "    \n",
    "    # record information about this draw\n",
    "    k_list.append(k)\n",
    "    reward_list.append(reward)\n",
    "    k_array[k, draw_number] = 1\n",
    "    reward_array[k, draw_number] = reward\n",
    "      \n",
    "    # getting list of colors that tells us the bandit\n",
    "    color_list = [bandit_colors[k] for k in k_list]\n",
    "    \n",
    "    # getting list of facecolors that tells us the reward\n",
    "    facecolor_list = [['none', bandit_colors[k_list[i]]][r] for i, r in enumerate(reward_list)]    \n",
    "    \n",
    "# initializing with first data\n",
    "scatter = ax.scatter(y=[k_list[0]], x=[list(range(N_DRAWS))[0]], color=[color_list[0]], linestyle='-', marker='o', s=30, facecolor=[facecolor_list[0]]);\n",
    "\n",
    "# titles\n",
    "plt.title('Thompson Sampling decision policy: probability matching', fontsize=10)\n",
    "plt.xlabel('Round', fontsize=10); plt.ylabel('Bandit', fontsize=10);\n",
    "ax.set_yticks([0,1,2,3])\n",
    "ax.set_yticklabels(['{}\\n($\\\\theta = {}$)'.format(i, bandit_probs[i]) for i in range(4)])\n",
    "ax.tick_params(labelsize=10)\n",
    "fig.tight_layout()\n",
    "\n",
    "# function for updating\n",
    "def animate(i):\n",
    "    x = list(range(N_DRAWS))[:i]\n",
    "    y = k_list[:i]\n",
    "    scatter.set_offsets(np.c_[x, y])\n",
    "    scatter.set_color(color_list[:i])\n",
    "    scatter.set_facecolor(facecolor_list[:i])\n",
    "    ax.set_yticks([0,1,2,3])\n",
    "    ax.set_yticklabels(['{}\\n($\\\\theta = {}$)'.format(i, bandit_probs[i]) for i in range(4)])\n",
    "    ax.tick_params(labelsize=10)\n",
    "    return (scatter,)\n",
    "\n",
    "# function for creating animation\n",
    "anim = FuncAnimation(fig, animate, frames=N_DRAWS, interval=25, blit=True)\n",
    "\n",
    "# showing\n",
    "# HTML(anim.to_html5_video())"
   ]
  },
  {
   "cell_type": "code",
   "execution_count": 20,
   "metadata": {},
   "outputs": [],
   "source": [
    "# let us plot\n",
    "plot_MAB_experiment(ts_policy.choose_bandit, 200, mab.bandit_probs, 'Thompson Sampling decision policy: probability matching','TS')"
   ]
  },
  {
   "cell_type": "markdown",
   "metadata": {},
   "source": [
    "We can see that Thompson Sampling performs a very efficient exploration, quickly ruling out less promising arms, but not quite greedily: less promising arms with high uncertainty are activated, as we do not have sufficient information to rule them out. However, when the distribution of the best arm stands out, with uncertainty considered, we get a lot more agressive on exploitation.\n",
    "\n",
    "But let us not take conclusions from an illustrative example with only 200 rounds of play. Let us analyze cumulative rewards and regrets for each of our decision policies in many long-term simulations. "
   ]
  },
  {
   "cell_type": "markdown",
   "metadata": {},
   "source": [
    "## Regrets and cumulative rewards\n",
    "\n",
    "We have observed small illustrative examples of our decision policies, which provided with interesting insights on how they work. Now, we're interested in measuring their behaviour in the long-term, after many rounds of play. Therefore, and also to make things fair and minimize the effect of randomness, we will perform many simulations of many rounds of play, and average the results per round across all simulations. Let us implement this. "
   ]
  },
  {
   "cell_type": "markdown",
   "metadata": {},
   "source": [
    "### Simulation\n",
    "\n",
    "To keep things tidy, we perform the simulation in a separate subsection."
   ]
  },
  {
   "cell_type": "code",
   "execution_count": 21,
   "metadata": {},
   "outputs": [],
   "source": [
    "# number of rounds\n",
    "N_ROUNDS = 10000\n",
    "\n",
    "# number of simulations\n",
    "N_SIMULATIONS = 1000"
   ]
  },
  {
   "cell_type": "code",
   "execution_count": 22,
   "metadata": {},
   "outputs": [
    {
     "name": "stdout",
     "output_type": "stream",
     "text": [
      "e_greedy <bound method eGreedyPolicy.choose_bandit of <__main__.eGreedyPolicy object at 0x7ff0cc774a00>>\n"
     ]
    },
    {
     "name": "stderr",
     "output_type": "stream",
     "text": [
      "  0%|          | 0/1000 [00:00<?, ?it/s]/tmp/ipykernel_6141/3079164422.py:18: RuntimeWarning: invalid value encountered in true_divide\n",
      "  success_ratio = success_count/total_count\n",
      "100%|██████████| 1000/1000 [08:53<00:00,  1.87it/s]\n"
     ]
    },
    {
     "name": "stdout",
     "output_type": "stream",
     "text": [
      "ucb <bound method UCBPolicy.choose_bandit of <__main__.UCBPolicy object at 0x7ff0cc78e880>>\n"
     ]
    },
    {
     "name": "stderr",
     "output_type": "stream",
     "text": [
      "  0%|          | 0/1000 [00:00<?, ?it/s]/tmp/ipykernel_6141/2987556313.py:21: RuntimeWarning: divide by zero encountered in log\n",
      "  sqrt_term = np.sqrt(2*np.log(np.sum(total_count))/total_count)\n",
      "/tmp/ipykernel_6141/2987556313.py:21: RuntimeWarning: invalid value encountered in sqrt\n",
      "  sqrt_term = np.sqrt(2*np.log(np.sum(total_count))/total_count)\n",
      "/tmp/ipykernel_6141/2987556313.py:21: RuntimeWarning: invalid value encountered in true_divide\n",
      "  sqrt_term = np.sqrt(2*np.log(np.sum(total_count))/total_count)\n",
      "/tmp/ipykernel_6141/2987556313.py:21: RuntimeWarning: divide by zero encountered in true_divide\n",
      "  sqrt_term = np.sqrt(2*np.log(np.sum(total_count))/total_count)\n",
      "100%|██████████| 1000/1000 [09:13<00:00,  1.81it/s]\n"
     ]
    },
    {
     "name": "stdout",
     "output_type": "stream",
     "text": [
      "ts <bound method TSPolicy.choose_bandit of <__main__.TSPolicy object at 0x7ff0cc6ac2b0>>\n"
     ]
    },
    {
     "name": "stderr",
     "output_type": "stream",
     "text": [
      "100%|██████████| 1000/1000 [09:57<00:00,  1.67it/s]\n"
     ]
    }
   ],
   "source": [
    "# dict storing each decision policy\n",
    "dp_dict = {'e_greedy': e_greedy_policy.choose_bandit, \n",
    "           'ucb': ucb_policy.choose_bandit, \n",
    "           'ts': ts_policy.choose_bandit}\n",
    "\n",
    "# dict storing results for each algorithm and simulation\n",
    "results_dict = {'e_greedy': {'k_array': np.zeros((N_BANDITS,N_ROUNDS)),\n",
    "                             'reward_array': np.zeros((N_BANDITS,N_ROUNDS)),\n",
    "                             'regret_array': np.zeros((1,N_ROUNDS))[0]},\n",
    "                'ucb':  {'k_array': np.zeros((N_BANDITS,N_ROUNDS)),\n",
    "                         'reward_array': np.zeros((N_BANDITS,N_ROUNDS)),\n",
    "                         'regret_array': np.zeros((1,N_ROUNDS))[0]},\n",
    "                'ts':  {'k_array': np.zeros((N_BANDITS,N_ROUNDS)),\n",
    "                        'reward_array': np.zeros((N_BANDITS,N_ROUNDS)),\n",
    "                        'regret_array': np.zeros((1,N_ROUNDS))[0]}}\n",
    "\n",
    "# loop for each algorithm\n",
    "for key, decision_policy in dp_dict.items():\n",
    "    \n",
    "    # printing progress\n",
    "    print(key, decision_policy)\n",
    "    \n",
    "    # loop for each simulation\n",
    "    for simulation in tqdm(range(N_SIMULATIONS)):\n",
    "        \n",
    "        # numpy arrays for accumulating draws, bandit choices and rewards, more efficient calculations\n",
    "        k_array = np.zeros((N_BANDITS,N_ROUNDS))\n",
    "        reward_array = np.zeros((N_BANDITS,N_ROUNDS))\n",
    "        regret_array = np.zeros((1,N_ROUNDS))[0]\n",
    "       \n",
    "        # loop for each round\n",
    "        for round_id in range(N_ROUNDS):\n",
    "\n",
    "            # choosing arm nad pulling it\n",
    "            k = decision_policy(k_array, reward_array, N_BANDITS)\n",
    "            reward, regret = mab.draw(k)\n",
    "            \n",
    "            # record information about this draw\n",
    "            k_array[k, round_id] = 1\n",
    "            reward_array[k, round_id] = reward\n",
    "            regret_array[round_id] = regret\n",
    "            \n",
    "        # results for the simulation\n",
    "        results_dict[key]['k_array'] += k_array\n",
    "        results_dict[key]['reward_array'] += reward_array\n",
    "        results_dict[key]['regret_array'] += regret_array"
   ]
  },
  {
   "cell_type": "markdown",
   "metadata": {},
   "source": [
    "### Results\n",
    "\n",
    "Let us now analyze the results. We're going to evaluate three things: (1) cumulative regret; (2) cumulative average rewards and (3) arm selection over time."
   ]
  },
  {
   "cell_type": "code",
   "execution_count": 23,
   "metadata": {},
   "outputs": [],
   "source": [
    "# closing all past figures\n",
    "plt.close('all')\n",
    "\n",
    "# opening figure to plot regret\n",
    "plt.figure(figsize=(10, 3), dpi=150)\n",
    "\n",
    "# loop for each decision policy\n",
    "for policy in ['e_greedy','ucb','ts']:\n",
    "    \n",
    "    # plotting data\n",
    "    plt.plot(np.cumsum(results_dict[policy]['regret_array']/N_SIMULATIONS), label=policy, linewidth=1.5);\n",
    "    \n",
    "# adding title\n",
    "plt.title('Comparison of cumulative regret for each method in {} simulations'.format(N_SIMULATIONS), fontsize=10)\n",
    "\n",
    "# adding legend\n",
    "plt.legend(fontsize=8); plt.xticks(fontsize=10); plt.yticks(fontsize=10)\n",
    "\n",
    "\n",
    "plt.savefig(\"cumulativeRegret.jpg\")\n",
    "\n"
   ]
  },
  {
   "cell_type": "markdown",
   "metadata": {},
   "source": [
    "We see that Thompson sampling greatly outperforms the other methods. It is noteworthy that the $\\epsilon$-greedy strategy has linear cumulative regret, as it is always selecting random actions. An improvement could be the $\\epsilon$-decreasing strategy, at a cost of more complexity to tune the algorithm. This may not be practical, as Thompson Sampling show better performance but have no hyperparameters. The UCB policy, in our experiment, shows worse results than the $\\epsilon$-greedy strategy. We could improve the policy by using the UCB2 algorithm instead of UCB1, or by using a hyperparameter to control how optimistic we are. Nevertheless, we expect that UCB will catch up to $\\epsilon$-greedy after more rounds, as it will stop exploring eventually."
   ]
  },
  {
   "cell_type": "code",
   "execution_count": 24,
   "metadata": {},
   "outputs": [],
   "source": [
    "# closing all past figures\n",
    "plt.close('all')\n",
    "\n",
    "# opening figure to plot regret\n",
    "plt.figure(figsize=(10, 3), dpi=150)\n",
    "\n",
    "# colors for each bandit\n",
    "bandit_colors = ['red', 'green', 'blue', 'purple']\n",
    "\n",
    "# loop for each decision policy\n",
    "for i, policy in enumerate(['e_greedy','ucb','ts']):\n",
    "    \n",
    "    # subplots\n",
    "    plt.subplot(1,3,i+1)\n",
    "    \n",
    "    # loop for each arm\n",
    "    for arm in range(N_BANDITS):\n",
    "    \n",
    "        # plotting data\n",
    "        plt.plot(results_dict[policy]['k_array'][arm]/N_SIMULATIONS, label='Bandit {}'.format(arm), linewidth=1.5, color=bandit_colors[arm]);\n",
    "    \n",
    "        # adding title\n",
    "        plt.title('Algorithm {} proportion of arm selection'.format(policy), fontsize=8)\n",
    "\n",
    "        # adding legend\n",
    "        plt.legend(fontsize=8); plt.xticks(fontsize=8); plt.yticks(fontsize=8); plt.ylim([-0.1,1.1])\n",
    "\n",
    "# showing plot\n",
    " \n",
    "plt.savefig(\"probArmSelection.jpg\")\n"
   ]
  },
  {
   "cell_type": "markdown",
   "metadata": {},
   "source": [
    "We can see that Thompson Sampling has quick convergence to the optimal bandit, and also more stability across simulations. Let us wrap everything up and conclude."
   ]
  },
  {
   "cell_type": "markdown",
   "metadata": {},
   "source": [
    "## Conclusion\n",
    "\n",
    "In this Notebook, we implemented the Multi-Armed Bandit problem and tested three decision policies to address the exploration/exploitation problem: (a) $\\epsilon$-greedy, (b) UCB and (c) Thompson Sampling.\n",
    "\n",
    "In order to implement these strategies and use them, we need to be bayesian and compute probability distributions over the parameters (the probabilities of reward, in this case) we're interested in. \n",
    "\n",
    "The $\\epsilon$-greedy strategy uses a constant to balance exploration and exploitation. This is not ideal, as the hyperparameter may be hard to tune. Also, the exploration is done in 100% randomly, such that we explore bandits equally (in average), irrespective of how promising they may look.\n",
    "\n",
    "The UCB strategy, unlike the $\\epsilon$-greedy, uses the uncertainty of the posterior distribution to select the appropriate bandit at each round. It supposes that a bandit can be as good as it's reward distribution upper confidence bound. So we favor exploration by sampling from the distributions with high uncertainty and high tails, and exploit by sampling from the distribution with highest mean after we ruled out all the other upper confidence bounds.\n",
    "\n",
    "Finally, Thompson Sampling uses a very elegant principle: to choose an action according to the probability of it being optimal. In practice, this makes for a very simple algorithm. We take one sample from each reward distribution, and choose the one with the highest value. Despite its simplicity, Thompson Sampling achieves state-of-the-art results, greatly outperforming the other algorithms. The logic is that it promotes efficient exploration: it explores more where it is promising, and quickly discards bad actions."
   ]
  },
  {
   "cell_type": "code",
   "execution_count": 25,
   "metadata": {},
   "outputs": [],
   "source": [
    "import matplotlib.animation as animation\n",
    "# Set up formatting for the movie files\n",
    "Writer = animation.writers['ffmpeg']\n",
    "writervideo = Writer(fps=15, metadata=dict(artist='Me'), bitrate=1800)\n",
    "anim.save('increasingStraightLine.mp4', writer=writervideo)"
   ]
  }
 ],
 "metadata": {
  "kernelspec": {
   "display_name": "Python 3",
   "language": "python",
   "name": "python3"
  },
  "language_info": {
   "codemirror_mode": {
    "name": "ipython",
    "version": 3
   },
   "file_extension": ".py",
   "mimetype": "text/x-python",
   "name": "python",
   "nbconvert_exporter": "python",
   "pygments_lexer": "ipython3",
   "version": "3.9.7"
  },
  "toc": {
   "nav_menu": {},
   "number_sections": true,
   "sideBar": true,
   "skip_h1_title": false,
   "toc_cell": false,
   "toc_position": {
    "height": "713px",
    "left": "0px",
    "right": "1568.47px",
    "top": "106px",
    "width": "25px"
   },
   "toc_section_display": "block",
   "toc_window_display": true
  }
 },
 "nbformat": 4,
 "nbformat_minor": 2
}
